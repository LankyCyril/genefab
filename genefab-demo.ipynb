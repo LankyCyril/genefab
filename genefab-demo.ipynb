{
 "cells": [
  {
   "cell_type": "code",
   "execution_count": 1,
   "metadata": {},
   "outputs": [],
   "source": [
    "from genefab import get_datasets, GLDS"
   ]
  },
  {
   "cell_type": "markdown",
   "metadata": {},
   "source": [
    "Requesting a dataset directly:"
   ]
  },
  {
   "cell_type": "code",
   "execution_count": 2,
   "metadata": {},
   "outputs": [
    {
     "data": {
      "text/plain": [
       "name: GLDS-4\n",
       "assays: ['a_GLDS-4_microarray_metadata-txt']\n",
       "factors: ['Spaceflight', 'Cosmic Radiation']"
      ]
     },
     "execution_count": 2,
     "metadata": {},
     "output_type": "execute_result"
    }
   ],
   "source": [
    "glds = GLDS(\"GLDS-4\")\n",
    "glds"
   ]
  },
  {
   "cell_type": "code",
   "execution_count": 3,
   "metadata": {},
   "outputs": [
    {
     "data": {
      "text/plain": [
       "name: a_GLDS-4_microarray_metadata-txt\n",
       "samples: ['Mmus_C57-6T_TMS_FLT_Rep1', 'Mmus_C57-6T_TMS_FLT_Rep2', 'Mmus_C57-6T_TMS_FLT_Rep3', 'Mmus_C57-6T_TMS_FLT_Rep4', 'Mmus_C57-6T_TMS_GC_Rep1', 'Mmus_C57-6T_TMS_GC_Rep2', 'Mmus_C57-6T_TMS_GC_Rep3', 'Mmus_C57-6T_TMS_GC_Rep4']\n",
       "factor values: {'Factor Value:  Spaceflight': {'Space Flight', 'Ground Control'}}"
      ]
     },
     "execution_count": 3,
     "metadata": {},
     "output_type": "execute_result"
    }
   ],
   "source": [
    "assay = glds.assays[0]\n",
    "assay"
   ]
  },
  {
   "cell_type": "code",
   "execution_count": 4,
   "metadata": {},
   "outputs": [
    {
     "data": {
      "text/plain": [
       "(True, True, True)"
      ]
     },
     "execution_count": 4,
     "metadata": {},
     "output_type": "execute_result"
    }
   ],
   "source": [
    "assay.has_arrays, assay.has_normalized_data, assay.has_processed_data"
   ]
  },
  {
   "cell_type": "code",
   "execution_count": 5,
   "metadata": {},
   "outputs": [
    {
     "data": {
      "text/plain": [
       "['Mmus_C57-6T_TMS_FLT_Rep1',\n",
       " 'Mmus_C57-6T_TMS_FLT_Rep2',\n",
       " 'Mmus_C57-6T_TMS_FLT_Rep3',\n",
       " 'Mmus_C57-6T_TMS_FLT_Rep4',\n",
       " 'Mmus_C57-6T_TMS_GC_Rep1',\n",
       " 'Mmus_C57-6T_TMS_GC_Rep2',\n",
       " 'Mmus_C57-6T_TMS_GC_Rep3',\n",
       " 'Mmus_C57-6T_TMS_GC_Rep4']"
      ]
     },
     "execution_count": 5,
     "metadata": {},
     "output_type": "execute_result"
    }
   ],
   "source": [
    "assay.samples"
   ]
  },
  {
   "cell_type": "markdown",
   "metadata": {},
   "source": [
    "`Assay.metadata` is dataframe-like; by default, it is indexed by *\"Sample Name\"*.  \n",
    "Column indexing can only be done with the double square bracket syntax, because one human-readable field name can map to multiple fields, and double square bracket indexing is expected to return a DataFrame (not a Series):"
   ]
  },
  {
   "cell_type": "code",
   "execution_count": 6,
   "metadata": {},
   "outputs": [
    {
     "data": {
      "text/html": [
       "<div>\n",
       "<style scoped>\n",
       "    .dataframe tbody tr th:only-of-type {\n",
       "        vertical-align: middle;\n",
       "    }\n",
       "\n",
       "    .dataframe tbody tr th {\n",
       "        vertical-align: top;\n",
       "    }\n",
       "\n",
       "    .dataframe thead th {\n",
       "        text-align: right;\n",
       "    }\n",
       "</style>\n",
       "<table border=\"1\" class=\"dataframe\">\n",
       "  <thead>\n",
       "    <tr style=\"text-align: right;\">\n",
       "      <th></th>\n",
       "      <th>a100014protocolref</th>\n",
       "      <th>a100009protocolref</th>\n",
       "      <th>a100004protocolref</th>\n",
       "      <th>a100019protocolref</th>\n",
       "      <th>a100022protocolref</th>\n",
       "      <th>a100017protocolref</th>\n",
       "    </tr>\n",
       "    <tr>\n",
       "      <th>a100000samplename</th>\n",
       "      <th></th>\n",
       "      <th></th>\n",
       "      <th></th>\n",
       "      <th></th>\n",
       "      <th></th>\n",
       "      <th></th>\n",
       "    </tr>\n",
       "  </thead>\n",
       "  <tbody>\n",
       "    <tr>\n",
       "      <th>Mmus_C57-6T_TMS_FLT_Rep1</th>\n",
       "      <td>nucleic acid hybridization</td>\n",
       "      <td>labeling</td>\n",
       "      <td>RNA extraction</td>\n",
       "      <td>normalization data transformation</td>\n",
       "      <td>GeneLab data processing protocol</td>\n",
       "      <td>scan protocol</td>\n",
       "    </tr>\n",
       "    <tr>\n",
       "      <th>Mmus_C57-6T_TMS_FLT_Rep2</th>\n",
       "      <td>nucleic acid hybridization</td>\n",
       "      <td>labeling</td>\n",
       "      <td>RNA extraction</td>\n",
       "      <td>normalization data transformation</td>\n",
       "      <td>GeneLab data processing protocol</td>\n",
       "      <td>scan protocol</td>\n",
       "    </tr>\n",
       "    <tr>\n",
       "      <th>Mmus_C57-6T_TMS_FLT_Rep3</th>\n",
       "      <td>nucleic acid hybridization</td>\n",
       "      <td>labeling</td>\n",
       "      <td>RNA extraction</td>\n",
       "      <td>normalization data transformation</td>\n",
       "      <td>GeneLab data processing protocol</td>\n",
       "      <td>scan protocol</td>\n",
       "    </tr>\n",
       "    <tr>\n",
       "      <th>Mmus_C57-6T_TMS_FLT_Rep4</th>\n",
       "      <td>nucleic acid hybridization</td>\n",
       "      <td>labeling</td>\n",
       "      <td>RNA extraction</td>\n",
       "      <td>normalization data transformation</td>\n",
       "      <td>GeneLab data processing protocol</td>\n",
       "      <td>scan protocol</td>\n",
       "    </tr>\n",
       "    <tr>\n",
       "      <th>Mmus_C57-6T_TMS_GC_Rep1</th>\n",
       "      <td>nucleic acid hybridization</td>\n",
       "      <td>labeling</td>\n",
       "      <td>RNA extraction</td>\n",
       "      <td>normalization data transformation</td>\n",
       "      <td>GeneLab data processing protocol</td>\n",
       "      <td>scan protocol</td>\n",
       "    </tr>\n",
       "    <tr>\n",
       "      <th>Mmus_C57-6T_TMS_GC_Rep2</th>\n",
       "      <td>nucleic acid hybridization</td>\n",
       "      <td>labeling</td>\n",
       "      <td>RNA extraction</td>\n",
       "      <td>normalization data transformation</td>\n",
       "      <td>GeneLab data processing protocol</td>\n",
       "      <td>scan protocol</td>\n",
       "    </tr>\n",
       "    <tr>\n",
       "      <th>Mmus_C57-6T_TMS_GC_Rep3</th>\n",
       "      <td>nucleic acid hybridization</td>\n",
       "      <td>labeling</td>\n",
       "      <td>RNA extraction</td>\n",
       "      <td>normalization data transformation</td>\n",
       "      <td>GeneLab data processing protocol</td>\n",
       "      <td>scan protocol</td>\n",
       "    </tr>\n",
       "    <tr>\n",
       "      <th>Mmus_C57-6T_TMS_GC_Rep4</th>\n",
       "      <td>nucleic acid hybridization</td>\n",
       "      <td>labeling</td>\n",
       "      <td>RNA extraction</td>\n",
       "      <td>normalization data transformation</td>\n",
       "      <td>GeneLab data processing protocol</td>\n",
       "      <td>scan protocol</td>\n",
       "    </tr>\n",
       "  </tbody>\n",
       "</table>\n",
       "</div>"
      ],
      "text/plain": [
       "                                  a100014protocolref a100009protocolref  \\\n",
       "a100000samplename                                                         \n",
       "Mmus_C57-6T_TMS_FLT_Rep1  nucleic acid hybridization           labeling   \n",
       "Mmus_C57-6T_TMS_FLT_Rep2  nucleic acid hybridization           labeling   \n",
       "Mmus_C57-6T_TMS_FLT_Rep3  nucleic acid hybridization           labeling   \n",
       "Mmus_C57-6T_TMS_FLT_Rep4  nucleic acid hybridization           labeling   \n",
       "Mmus_C57-6T_TMS_GC_Rep1   nucleic acid hybridization           labeling   \n",
       "Mmus_C57-6T_TMS_GC_Rep2   nucleic acid hybridization           labeling   \n",
       "Mmus_C57-6T_TMS_GC_Rep3   nucleic acid hybridization           labeling   \n",
       "Mmus_C57-6T_TMS_GC_Rep4   nucleic acid hybridization           labeling   \n",
       "\n",
       "                         a100004protocolref  \\\n",
       "a100000samplename                             \n",
       "Mmus_C57-6T_TMS_FLT_Rep1     RNA extraction   \n",
       "Mmus_C57-6T_TMS_FLT_Rep2     RNA extraction   \n",
       "Mmus_C57-6T_TMS_FLT_Rep3     RNA extraction   \n",
       "Mmus_C57-6T_TMS_FLT_Rep4     RNA extraction   \n",
       "Mmus_C57-6T_TMS_GC_Rep1      RNA extraction   \n",
       "Mmus_C57-6T_TMS_GC_Rep2      RNA extraction   \n",
       "Mmus_C57-6T_TMS_GC_Rep3      RNA extraction   \n",
       "Mmus_C57-6T_TMS_GC_Rep4      RNA extraction   \n",
       "\n",
       "                                         a100019protocolref  \\\n",
       "a100000samplename                                             \n",
       "Mmus_C57-6T_TMS_FLT_Rep1  normalization data transformation   \n",
       "Mmus_C57-6T_TMS_FLT_Rep2  normalization data transformation   \n",
       "Mmus_C57-6T_TMS_FLT_Rep3  normalization data transformation   \n",
       "Mmus_C57-6T_TMS_FLT_Rep4  normalization data transformation   \n",
       "Mmus_C57-6T_TMS_GC_Rep1   normalization data transformation   \n",
       "Mmus_C57-6T_TMS_GC_Rep2   normalization data transformation   \n",
       "Mmus_C57-6T_TMS_GC_Rep3   normalization data transformation   \n",
       "Mmus_C57-6T_TMS_GC_Rep4   normalization data transformation   \n",
       "\n",
       "                                        a100022protocolref a100017protocolref  \n",
       "a100000samplename                                                              \n",
       "Mmus_C57-6T_TMS_FLT_Rep1  GeneLab data processing protocol      scan protocol  \n",
       "Mmus_C57-6T_TMS_FLT_Rep2  GeneLab data processing protocol      scan protocol  \n",
       "Mmus_C57-6T_TMS_FLT_Rep3  GeneLab data processing protocol      scan protocol  \n",
       "Mmus_C57-6T_TMS_FLT_Rep4  GeneLab data processing protocol      scan protocol  \n",
       "Mmus_C57-6T_TMS_GC_Rep1   GeneLab data processing protocol      scan protocol  \n",
       "Mmus_C57-6T_TMS_GC_Rep2   GeneLab data processing protocol      scan protocol  \n",
       "Mmus_C57-6T_TMS_GC_Rep3   GeneLab data processing protocol      scan protocol  \n",
       "Mmus_C57-6T_TMS_GC_Rep4   GeneLab data processing protocol      scan protocol  "
      ]
     },
     "execution_count": 6,
     "metadata": {},
     "output_type": "execute_result"
    }
   ],
   "source": [
    "assay.metadata[[\"Protocol REF\"]]"
   ]
  },
  {
   "cell_type": "markdown",
   "metadata": {},
   "source": [
    "For column indexing, human-readable field names are interpreted as case-insensitive regex patterns, for flexibility when dealing with differing titles in the API (for example, starting with \"Comment:  \" or not, as well as upper/lowercase differences).  \n",
    "To reduce the amount of madness, they have to match from start to end:"
   ]
  },
  {
   "cell_type": "code",
   "execution_count": 7,
   "metadata": {},
   "outputs": [
    {
     "data": {
      "text/html": [
       "<div>\n",
       "<style scoped>\n",
       "    .dataframe tbody tr th:only-of-type {\n",
       "        vertical-align: middle;\n",
       "    }\n",
       "\n",
       "    .dataframe tbody tr th {\n",
       "        vertical-align: top;\n",
       "    }\n",
       "\n",
       "    .dataframe thead th {\n",
       "        text-align: right;\n",
       "    }\n",
       "</style>\n",
       "<table border=\"1\" class=\"dataframe\">\n",
       "  <thead>\n",
       "    <tr style=\"text-align: right;\">\n",
       "      <th></th>\n",
       "      <th>a100025commentrawdataplots</th>\n",
       "      <th>a100024commentrawdataimages</th>\n",
       "      <th>a100029commentnormalizeddataplots</th>\n",
       "    </tr>\n",
       "    <tr>\n",
       "      <th>a100000samplename</th>\n",
       "      <th></th>\n",
       "      <th></th>\n",
       "      <th></th>\n",
       "    </tr>\n",
       "  </thead>\n",
       "  <tbody>\n",
       "    <tr>\n",
       "      <th>Mmus_C57-6T_TMS_FLT_Rep1</th>\n",
       "      <td>GLDS-4_array_Mmus_C57-6T_TMS_FLT_GC_All_Sample...</td>\n",
       "      <td>GLDS-4_array_Mmus_C57-6T_TMS_FLT_Rep1_GSM45859...</td>\n",
       "      <td>GLDS-4_array_Mmus_C57-6T_TMS_FLT_GC_All_Sample...</td>\n",
       "    </tr>\n",
       "    <tr>\n",
       "      <th>Mmus_C57-6T_TMS_FLT_Rep2</th>\n",
       "      <td>GLDS-4_array_Mmus_C57-6T_TMS_FLT_GC_All_Sample...</td>\n",
       "      <td>GLDS-4_array_Mmus_C57-6T_TMS_FLT_Rep2_GSM45859...</td>\n",
       "      <td>GLDS-4_array_Mmus_C57-6T_TMS_FLT_GC_All_Sample...</td>\n",
       "    </tr>\n",
       "    <tr>\n",
       "      <th>Mmus_C57-6T_TMS_FLT_Rep3</th>\n",
       "      <td>GLDS-4_array_Mmus_C57-6T_TMS_FLT_GC_All_Sample...</td>\n",
       "      <td>GLDS-4_array_Mmus_C57-6T_TMS_FLT_Rep3_GSM45859...</td>\n",
       "      <td>GLDS-4_array_Mmus_C57-6T_TMS_FLT_GC_All_Sample...</td>\n",
       "    </tr>\n",
       "    <tr>\n",
       "      <th>Mmus_C57-6T_TMS_FLT_Rep4</th>\n",
       "      <td>GLDS-4_array_Mmus_C57-6T_TMS_FLT_GC_All_Sample...</td>\n",
       "      <td>GLDS-4_array_Mmus_C57-6T_TMS_FLT_Rep4_GSM45859...</td>\n",
       "      <td>GLDS-4_array_Mmus_C57-6T_TMS_FLT_GC_All_Sample...</td>\n",
       "    </tr>\n",
       "    <tr>\n",
       "      <th>Mmus_C57-6T_TMS_GC_Rep1</th>\n",
       "      <td>GLDS-4_array_Mmus_C57-6T_TMS_FLT_GC_All_Sample...</td>\n",
       "      <td>GLDS-4_array_Mmus_C57-6T_TMS_GC_Rep1_GSM458598...</td>\n",
       "      <td>GLDS-4_array_Mmus_C57-6T_TMS_FLT_GC_All_Sample...</td>\n",
       "    </tr>\n",
       "    <tr>\n",
       "      <th>Mmus_C57-6T_TMS_GC_Rep2</th>\n",
       "      <td>GLDS-4_array_Mmus_C57-6T_TMS_FLT_GC_All_Sample...</td>\n",
       "      <td>GLDS-4_array_Mmus_C57-6T_TMS_GC_Rep2_GSM458599...</td>\n",
       "      <td>GLDS-4_array_Mmus_C57-6T_TMS_FLT_GC_All_Sample...</td>\n",
       "    </tr>\n",
       "    <tr>\n",
       "      <th>Mmus_C57-6T_TMS_GC_Rep3</th>\n",
       "      <td>GLDS-4_array_Mmus_C57-6T_TMS_FLT_GC_All_Sample...</td>\n",
       "      <td>GLDS-4_array_Mmus_C57-6T_TMS_GC_Rep3_GSM458600...</td>\n",
       "      <td>GLDS-4_array_Mmus_C57-6T_TMS_FLT_GC_All_Sample...</td>\n",
       "    </tr>\n",
       "    <tr>\n",
       "      <th>Mmus_C57-6T_TMS_GC_Rep4</th>\n",
       "      <td>GLDS-4_array_Mmus_C57-6T_TMS_FLT_GC_All_Sample...</td>\n",
       "      <td>GLDS-4_array_Mmus_C57-6T_TMS_GC_Rep4_GSM458601...</td>\n",
       "      <td>GLDS-4_array_Mmus_C57-6T_TMS_FLT_GC_All_Sample...</td>\n",
       "    </tr>\n",
       "  </tbody>\n",
       "</table>\n",
       "</div>"
      ],
      "text/plain": [
       "                                                 a100025commentrawdataplots  \\\n",
       "a100000samplename                                                             \n",
       "Mmus_C57-6T_TMS_FLT_Rep1  GLDS-4_array_Mmus_C57-6T_TMS_FLT_GC_All_Sample...   \n",
       "Mmus_C57-6T_TMS_FLT_Rep2  GLDS-4_array_Mmus_C57-6T_TMS_FLT_GC_All_Sample...   \n",
       "Mmus_C57-6T_TMS_FLT_Rep3  GLDS-4_array_Mmus_C57-6T_TMS_FLT_GC_All_Sample...   \n",
       "Mmus_C57-6T_TMS_FLT_Rep4  GLDS-4_array_Mmus_C57-6T_TMS_FLT_GC_All_Sample...   \n",
       "Mmus_C57-6T_TMS_GC_Rep1   GLDS-4_array_Mmus_C57-6T_TMS_FLT_GC_All_Sample...   \n",
       "Mmus_C57-6T_TMS_GC_Rep2   GLDS-4_array_Mmus_C57-6T_TMS_FLT_GC_All_Sample...   \n",
       "Mmus_C57-6T_TMS_GC_Rep3   GLDS-4_array_Mmus_C57-6T_TMS_FLT_GC_All_Sample...   \n",
       "Mmus_C57-6T_TMS_GC_Rep4   GLDS-4_array_Mmus_C57-6T_TMS_FLT_GC_All_Sample...   \n",
       "\n",
       "                                                a100024commentrawdataimages  \\\n",
       "a100000samplename                                                             \n",
       "Mmus_C57-6T_TMS_FLT_Rep1  GLDS-4_array_Mmus_C57-6T_TMS_FLT_Rep1_GSM45859...   \n",
       "Mmus_C57-6T_TMS_FLT_Rep2  GLDS-4_array_Mmus_C57-6T_TMS_FLT_Rep2_GSM45859...   \n",
       "Mmus_C57-6T_TMS_FLT_Rep3  GLDS-4_array_Mmus_C57-6T_TMS_FLT_Rep3_GSM45859...   \n",
       "Mmus_C57-6T_TMS_FLT_Rep4  GLDS-4_array_Mmus_C57-6T_TMS_FLT_Rep4_GSM45859...   \n",
       "Mmus_C57-6T_TMS_GC_Rep1   GLDS-4_array_Mmus_C57-6T_TMS_GC_Rep1_GSM458598...   \n",
       "Mmus_C57-6T_TMS_GC_Rep2   GLDS-4_array_Mmus_C57-6T_TMS_GC_Rep2_GSM458599...   \n",
       "Mmus_C57-6T_TMS_GC_Rep3   GLDS-4_array_Mmus_C57-6T_TMS_GC_Rep3_GSM458600...   \n",
       "Mmus_C57-6T_TMS_GC_Rep4   GLDS-4_array_Mmus_C57-6T_TMS_GC_Rep4_GSM458601...   \n",
       "\n",
       "                                          a100029commentnormalizeddataplots  \n",
       "a100000samplename                                                            \n",
       "Mmus_C57-6T_TMS_FLT_Rep1  GLDS-4_array_Mmus_C57-6T_TMS_FLT_GC_All_Sample...  \n",
       "Mmus_C57-6T_TMS_FLT_Rep2  GLDS-4_array_Mmus_C57-6T_TMS_FLT_GC_All_Sample...  \n",
       "Mmus_C57-6T_TMS_FLT_Rep3  GLDS-4_array_Mmus_C57-6T_TMS_FLT_GC_All_Sample...  \n",
       "Mmus_C57-6T_TMS_FLT_Rep4  GLDS-4_array_Mmus_C57-6T_TMS_FLT_GC_All_Sample...  \n",
       "Mmus_C57-6T_TMS_GC_Rep1   GLDS-4_array_Mmus_C57-6T_TMS_FLT_GC_All_Sample...  \n",
       "Mmus_C57-6T_TMS_GC_Rep2   GLDS-4_array_Mmus_C57-6T_TMS_FLT_GC_All_Sample...  \n",
       "Mmus_C57-6T_TMS_GC_Rep3   GLDS-4_array_Mmus_C57-6T_TMS_FLT_GC_All_Sample...  \n",
       "Mmus_C57-6T_TMS_GC_Rep4   GLDS-4_array_Mmus_C57-6T_TMS_FLT_GC_All_Sample...  "
      ]
     },
     "execution_count": 7,
     "metadata": {},
     "output_type": "execute_result"
    }
   ],
   "source": [
    "assay.metadata[[\".*plots.*\", \".*images.*\"]]"
   ]
  },
  {
   "cell_type": "code",
   "execution_count": 8,
   "metadata": {},
   "outputs": [
    {
     "data": {
      "text/plain": [
       "index: ['Mmus_C57-6T_TMS_FLT_Rep1', 'Mmus_C57-6T_TMS_FLT_Rep2', 'Mmus_C57-6T_TMS_FLT_Rep3', 'Mmus_C57-6T_TMS_FLT_Rep4', 'Mmus_C57-6T_TMS_GC_Rep1', 'Mmus_C57-6T_TMS_GC_Rep2', 'Mmus_C57-6T_TMS_GC_Rep3', 'Mmus_C57-6T_TMS_GC_Rep4']\n",
       "fields: ['Factor Value:  Spaceflight', 'Protocol REF', 'Material Type', 'Extract Name', 'Labeled Extract Name', 'Label', 'Hybridization Assay Name', 'Array Design REF', 'Array Data File', 'Normalization Name', 'Derived Array Data File', 'Comment:  GeneLab Processed Raw Data Files', 'Comment:  Raw Data Images', 'Comment:  Raw Data Plots', 'Comment:  Supplemental Materials', 'Comment:  Normalized Data Files', 'Comment:  Normalized Annotated Data Files', 'Comment:  Normalized Data Plots']\n",
       "factor values: {'Factor Value:  Spaceflight': {'Space Flight', 'Ground Control'}}"
      ]
     },
     "execution_count": 8,
     "metadata": {},
     "output_type": "execute_result"
    }
   ],
   "source": [
    "assay.metadata"
   ]
  },
  {
   "cell_type": "markdown",
   "metadata": {},
   "source": [
    "`Assay.factors` gets you factors in the assay:"
   ]
  },
  {
   "cell_type": "code",
   "execution_count": 9,
   "metadata": {},
   "outputs": [
    {
     "data": {
      "text/html": [
       "<div>\n",
       "<style scoped>\n",
       "    .dataframe tbody tr th:only-of-type {\n",
       "        vertical-align: middle;\n",
       "    }\n",
       "\n",
       "    .dataframe tbody tr th {\n",
       "        vertical-align: top;\n",
       "    }\n",
       "\n",
       "    .dataframe thead th {\n",
       "        text-align: right;\n",
       "    }\n",
       "</style>\n",
       "<table border=\"1\" class=\"dataframe\">\n",
       "  <thead>\n",
       "    <tr style=\"text-align: right;\">\n",
       "      <th>Factor</th>\n",
       "      <th>Factor Value:  Spaceflight</th>\n",
       "    </tr>\n",
       "    <tr>\n",
       "      <th>Sample Name</th>\n",
       "      <th></th>\n",
       "    </tr>\n",
       "  </thead>\n",
       "  <tbody>\n",
       "    <tr>\n",
       "      <th>Mmus_C57-6T_TMS_FLT_Rep1</th>\n",
       "      <td>Space Flight</td>\n",
       "    </tr>\n",
       "    <tr>\n",
       "      <th>Mmus_C57-6T_TMS_FLT_Rep2</th>\n",
       "      <td>Space Flight</td>\n",
       "    </tr>\n",
       "    <tr>\n",
       "      <th>Mmus_C57-6T_TMS_FLT_Rep3</th>\n",
       "      <td>Space Flight</td>\n",
       "    </tr>\n",
       "    <tr>\n",
       "      <th>Mmus_C57-6T_TMS_FLT_Rep4</th>\n",
       "      <td>Space Flight</td>\n",
       "    </tr>\n",
       "    <tr>\n",
       "      <th>Mmus_C57-6T_TMS_GC_Rep1</th>\n",
       "      <td>Ground Control</td>\n",
       "    </tr>\n",
       "    <tr>\n",
       "      <th>Mmus_C57-6T_TMS_GC_Rep2</th>\n",
       "      <td>Ground Control</td>\n",
       "    </tr>\n",
       "    <tr>\n",
       "      <th>Mmus_C57-6T_TMS_GC_Rep3</th>\n",
       "      <td>Ground Control</td>\n",
       "    </tr>\n",
       "    <tr>\n",
       "      <th>Mmus_C57-6T_TMS_GC_Rep4</th>\n",
       "      <td>Ground Control</td>\n",
       "    </tr>\n",
       "  </tbody>\n",
       "</table>\n",
       "</div>"
      ],
      "text/plain": [
       "Factor                   Factor Value:  Spaceflight\n",
       "Sample Name                                        \n",
       "Mmus_C57-6T_TMS_FLT_Rep1               Space Flight\n",
       "Mmus_C57-6T_TMS_FLT_Rep2               Space Flight\n",
       "Mmus_C57-6T_TMS_FLT_Rep3               Space Flight\n",
       "Mmus_C57-6T_TMS_FLT_Rep4               Space Flight\n",
       "Mmus_C57-6T_TMS_GC_Rep1              Ground Control\n",
       "Mmus_C57-6T_TMS_GC_Rep2              Ground Control\n",
       "Mmus_C57-6T_TMS_GC_Rep3              Ground Control\n",
       "Mmus_C57-6T_TMS_GC_Rep4              Ground Control"
      ]
     },
     "execution_count": 9,
     "metadata": {},
     "output_type": "execute_result"
    }
   ],
   "source": [
    "assay.factors"
   ]
  },
  {
   "cell_type": "markdown",
   "metadata": {},
   "source": [
    "Processed data can be requested:  \n",
    "*(processed == normalized and annotated)*"
   ]
  },
  {
   "cell_type": "code",
   "execution_count": 10,
   "metadata": {},
   "outputs": [
    {
     "data": {
      "text/html": [
       "<div>\n",
       "<style scoped>\n",
       "    .dataframe tbody tr th:only-of-type {\n",
       "        vertical-align: middle;\n",
       "    }\n",
       "\n",
       "    .dataframe tbody tr th {\n",
       "        vertical-align: top;\n",
       "    }\n",
       "\n",
       "    .dataframe thead th {\n",
       "        text-align: right;\n",
       "    }\n",
       "</style>\n",
       "<table border=\"1\" class=\"dataframe\">\n",
       "  <thead>\n",
       "    <tr style=\"text-align: right;\">\n",
       "      <th>Sample Name</th>\n",
       "      <th>Mmus_C57-6T_TMS_FLT_Rep1</th>\n",
       "      <th>Mmus_C57-6T_TMS_FLT_Rep2</th>\n",
       "      <th>Mmus_C57-6T_TMS_FLT_Rep3</th>\n",
       "      <th>Mmus_C57-6T_TMS_FLT_Rep4</th>\n",
       "      <th>Mmus_C57-6T_TMS_GC_Rep1</th>\n",
       "      <th>Mmus_C57-6T_TMS_GC_Rep2</th>\n",
       "      <th>Mmus_C57-6T_TMS_GC_Rep3</th>\n",
       "      <th>Mmus_C57-6T_TMS_GC_Rep4</th>\n",
       "    </tr>\n",
       "    <tr>\n",
       "      <th>ID</th>\n",
       "      <th></th>\n",
       "      <th></th>\n",
       "      <th></th>\n",
       "      <th></th>\n",
       "      <th></th>\n",
       "      <th></th>\n",
       "      <th></th>\n",
       "      <th></th>\n",
       "    </tr>\n",
       "  </thead>\n",
       "  <tbody>\n",
       "    <tr>\n",
       "      <th>NM_001355712</th>\n",
       "      <td>8.942076</td>\n",
       "      <td>9.468133</td>\n",
       "      <td>9.212215</td>\n",
       "      <td>9.414233</td>\n",
       "      <td>9.506787</td>\n",
       "      <td>9.364989</td>\n",
       "      <td>9.379174</td>\n",
       "      <td>9.451228</td>\n",
       "    </tr>\n",
       "    <tr>\n",
       "      <th>NM_001310442</th>\n",
       "      <td>7.993204</td>\n",
       "      <td>8.430513</td>\n",
       "      <td>8.214404</td>\n",
       "      <td>8.559117</td>\n",
       "      <td>8.521084</td>\n",
       "      <td>8.460050</td>\n",
       "      <td>8.294821</td>\n",
       "      <td>8.329526</td>\n",
       "    </tr>\n",
       "    <tr>\n",
       "      <th>NM_001204371</th>\n",
       "      <td>3.892463</td>\n",
       "      <td>4.113051</td>\n",
       "      <td>4.236066</td>\n",
       "      <td>3.673601</td>\n",
       "      <td>4.171318</td>\n",
       "      <td>4.231676</td>\n",
       "      <td>3.689275</td>\n",
       "      <td>3.571904</td>\n",
       "    </tr>\n",
       "    <tr>\n",
       "      <th>NM_009826</th>\n",
       "      <td>8.329473</td>\n",
       "      <td>8.507683</td>\n",
       "      <td>8.327480</td>\n",
       "      <td>8.451816</td>\n",
       "      <td>8.301892</td>\n",
       "      <td>8.345079</td>\n",
       "      <td>8.109227</td>\n",
       "      <td>8.109115</td>\n",
       "    </tr>\n",
       "    <tr>\n",
       "      <th>NM_001195732</th>\n",
       "      <td>3.533509</td>\n",
       "      <td>3.292036</td>\n",
       "      <td>3.958079</td>\n",
       "      <td>3.566297</td>\n",
       "      <td>3.561111</td>\n",
       "      <td>3.504118</td>\n",
       "      <td>3.541423</td>\n",
       "      <td>3.492351</td>\n",
       "    </tr>\n",
       "  </tbody>\n",
       "</table>\n",
       "</div>"
      ],
      "text/plain": [
       "Sample Name   Mmus_C57-6T_TMS_FLT_Rep1  Mmus_C57-6T_TMS_FLT_Rep2  \\\n",
       "ID                                                                 \n",
       "NM_001355712                  8.942076                  9.468133   \n",
       "NM_001310442                  7.993204                  8.430513   \n",
       "NM_001204371                  3.892463                  4.113051   \n",
       "NM_009826                     8.329473                  8.507683   \n",
       "NM_001195732                  3.533509                  3.292036   \n",
       "\n",
       "Sample Name   Mmus_C57-6T_TMS_FLT_Rep3  Mmus_C57-6T_TMS_FLT_Rep4  \\\n",
       "ID                                                                 \n",
       "NM_001355712                  9.212215                  9.414233   \n",
       "NM_001310442                  8.214404                  8.559117   \n",
       "NM_001204371                  4.236066                  3.673601   \n",
       "NM_009826                     8.327480                  8.451816   \n",
       "NM_001195732                  3.958079                  3.566297   \n",
       "\n",
       "Sample Name   Mmus_C57-6T_TMS_GC_Rep1  Mmus_C57-6T_TMS_GC_Rep2  \\\n",
       "ID                                                               \n",
       "NM_001355712                 9.506787                 9.364989   \n",
       "NM_001310442                 8.521084                 8.460050   \n",
       "NM_001204371                 4.171318                 4.231676   \n",
       "NM_009826                    8.301892                 8.345079   \n",
       "NM_001195732                 3.561111                 3.504118   \n",
       "\n",
       "Sample Name   Mmus_C57-6T_TMS_GC_Rep3  Mmus_C57-6T_TMS_GC_Rep4  \n",
       "ID                                                              \n",
       "NM_001355712                 9.379174                 9.451228  \n",
       "NM_001310442                 8.294821                 8.329526  \n",
       "NM_001204371                 3.689275                 3.571904  \n",
       "NM_009826                    8.109227                 8.109115  \n",
       "NM_001195732                 3.541423                 3.492351  "
      ]
     },
     "execution_count": 10,
     "metadata": {},
     "output_type": "execute_result"
    }
   ],
   "source": [
    "assay.processed_data[:5]\n",
    "# alias: assay.normalized_annotated_data[:5]"
   ]
  },
  {
   "cell_type": "markdown",
   "metadata": {},
   "source": [
    "So can normalized data: (non-annotated)"
   ]
  },
  {
   "cell_type": "code",
   "execution_count": 11,
   "metadata": {},
   "outputs": [
    {
     "data": {
      "text/html": [
       "<div>\n",
       "<style scoped>\n",
       "    .dataframe tbody tr th:only-of-type {\n",
       "        vertical-align: middle;\n",
       "    }\n",
       "\n",
       "    .dataframe tbody tr th {\n",
       "        vertical-align: top;\n",
       "    }\n",
       "\n",
       "    .dataframe thead th {\n",
       "        text-align: right;\n",
       "    }\n",
       "</style>\n",
       "<table border=\"1\" class=\"dataframe\">\n",
       "  <thead>\n",
       "    <tr style=\"text-align: right;\">\n",
       "      <th>Sample Name</th>\n",
       "      <th>Mmus_C57-6T_TMS_FLT_Rep1</th>\n",
       "      <th>Mmus_C57-6T_TMS_FLT_Rep2</th>\n",
       "      <th>Mmus_C57-6T_TMS_FLT_Rep3</th>\n",
       "      <th>Mmus_C57-6T_TMS_FLT_Rep4</th>\n",
       "      <th>Mmus_C57-6T_TMS_GC_Rep1</th>\n",
       "      <th>Mmus_C57-6T_TMS_GC_Rep2</th>\n",
       "      <th>Mmus_C57-6T_TMS_GC_Rep3</th>\n",
       "      <th>Mmus_C57-6T_TMS_GC_Rep4</th>\n",
       "    </tr>\n",
       "    <tr>\n",
       "      <th>ID</th>\n",
       "      <th></th>\n",
       "      <th></th>\n",
       "      <th></th>\n",
       "      <th></th>\n",
       "      <th></th>\n",
       "      <th></th>\n",
       "      <th></th>\n",
       "      <th></th>\n",
       "    </tr>\n",
       "  </thead>\n",
       "  <tbody>\n",
       "    <tr>\n",
       "      <th>10338001</th>\n",
       "      <td>11.710316</td>\n",
       "      <td>11.665027</td>\n",
       "      <td>11.922767</td>\n",
       "      <td>11.531424</td>\n",
       "      <td>11.561032</td>\n",
       "      <td>11.915841</td>\n",
       "      <td>11.381127</td>\n",
       "      <td>11.457108</td>\n",
       "    </tr>\n",
       "    <tr>\n",
       "      <th>10338002</th>\n",
       "      <td>6.272419</td>\n",
       "      <td>6.437356</td>\n",
       "      <td>6.010005</td>\n",
       "      <td>6.530253</td>\n",
       "      <td>6.487918</td>\n",
       "      <td>6.439028</td>\n",
       "      <td>6.399789</td>\n",
       "      <td>6.414530</td>\n",
       "    </tr>\n",
       "    <tr>\n",
       "      <th>10338003</th>\n",
       "      <td>10.310764</td>\n",
       "      <td>10.369588</td>\n",
       "      <td>10.635912</td>\n",
       "      <td>10.140038</td>\n",
       "      <td>10.223866</td>\n",
       "      <td>10.679233</td>\n",
       "      <td>10.020653</td>\n",
       "      <td>10.107153</td>\n",
       "    </tr>\n",
       "    <tr>\n",
       "      <th>10338004</th>\n",
       "      <td>9.229938</td>\n",
       "      <td>9.265878</td>\n",
       "      <td>9.476431</td>\n",
       "      <td>9.128688</td>\n",
       "      <td>9.292231</td>\n",
       "      <td>9.508814</td>\n",
       "      <td>8.969674</td>\n",
       "      <td>9.111594</td>\n",
       "    </tr>\n",
       "    <tr>\n",
       "      <th>10338005</th>\n",
       "      <td>1.892674</td>\n",
       "      <td>2.101610</td>\n",
       "      <td>2.015423</td>\n",
       "      <td>2.077190</td>\n",
       "      <td>2.065804</td>\n",
       "      <td>2.108446</td>\n",
       "      <td>2.053311</td>\n",
       "      <td>2.077626</td>\n",
       "    </tr>\n",
       "  </tbody>\n",
       "</table>\n",
       "</div>"
      ],
      "text/plain": [
       "Sample Name  Mmus_C57-6T_TMS_FLT_Rep1  Mmus_C57-6T_TMS_FLT_Rep2  \\\n",
       "ID                                                                \n",
       "10338001                    11.710316                 11.665027   \n",
       "10338002                     6.272419                  6.437356   \n",
       "10338003                    10.310764                 10.369588   \n",
       "10338004                     9.229938                  9.265878   \n",
       "10338005                     1.892674                  2.101610   \n",
       "\n",
       "Sample Name  Mmus_C57-6T_TMS_FLT_Rep3  Mmus_C57-6T_TMS_FLT_Rep4  \\\n",
       "ID                                                                \n",
       "10338001                    11.922767                 11.531424   \n",
       "10338002                     6.010005                  6.530253   \n",
       "10338003                    10.635912                 10.140038   \n",
       "10338004                     9.476431                  9.128688   \n",
       "10338005                     2.015423                  2.077190   \n",
       "\n",
       "Sample Name  Mmus_C57-6T_TMS_GC_Rep1  Mmus_C57-6T_TMS_GC_Rep2  \\\n",
       "ID                                                              \n",
       "10338001                   11.561032                11.915841   \n",
       "10338002                    6.487918                 6.439028   \n",
       "10338003                   10.223866                10.679233   \n",
       "10338004                    9.292231                 9.508814   \n",
       "10338005                    2.065804                 2.108446   \n",
       "\n",
       "Sample Name  Mmus_C57-6T_TMS_GC_Rep3  Mmus_C57-6T_TMS_GC_Rep4  \n",
       "ID                                                             \n",
       "10338001                   11.381127                11.457108  \n",
       "10338002                    6.399789                 6.414530  \n",
       "10338003                   10.020653                10.107153  \n",
       "10338004                    8.969674                 9.111594  \n",
       "10338005                    2.053311                 2.077626  "
      ]
     },
     "execution_count": 11,
     "metadata": {},
     "output_type": "execute_result"
    }
   ],
   "source": [
    "assay.normalized_data[:5]"
   ]
  },
  {
   "cell_type": "markdown",
   "metadata": {},
   "source": [
    "Datasets can be constructed so that the assays are indexed by a different field.  \n",
    "Again, `index_by` is interpreted as a case-insensitive regex pattern from start to end:"
   ]
  },
  {
   "cell_type": "code",
   "execution_count": 12,
   "metadata": {},
   "outputs": [
    {
     "data": {
      "text/html": [
       "<div>\n",
       "<style scoped>\n",
       "    .dataframe tbody tr th:only-of-type {\n",
       "        vertical-align: middle;\n",
       "    }\n",
       "\n",
       "    .dataframe tbody tr th {\n",
       "        vertical-align: top;\n",
       "    }\n",
       "\n",
       "    .dataframe thead th {\n",
       "        text-align: right;\n",
       "    }\n",
       "</style>\n",
       "<table border=\"1\" class=\"dataframe\">\n",
       "  <thead>\n",
       "    <tr style=\"text-align: right;\">\n",
       "      <th>Hybridization Assay Name</th>\n",
       "      <th>GSM458594</th>\n",
       "      <th>GSM458595</th>\n",
       "      <th>GSM458596</th>\n",
       "      <th>GSM458597</th>\n",
       "      <th>GSM458598</th>\n",
       "      <th>GSM458599</th>\n",
       "      <th>GSM458600</th>\n",
       "      <th>GSM458601</th>\n",
       "    </tr>\n",
       "    <tr>\n",
       "      <th>ID</th>\n",
       "      <th></th>\n",
       "      <th></th>\n",
       "      <th></th>\n",
       "      <th></th>\n",
       "      <th></th>\n",
       "      <th></th>\n",
       "      <th></th>\n",
       "      <th></th>\n",
       "    </tr>\n",
       "  </thead>\n",
       "  <tbody>\n",
       "    <tr>\n",
       "      <th>NM_001355712</th>\n",
       "      <td>8.942076</td>\n",
       "      <td>9.468133</td>\n",
       "      <td>9.212215</td>\n",
       "      <td>9.414233</td>\n",
       "      <td>9.506787</td>\n",
       "      <td>9.364989</td>\n",
       "      <td>9.379174</td>\n",
       "      <td>9.451228</td>\n",
       "    </tr>\n",
       "    <tr>\n",
       "      <th>NM_001310442</th>\n",
       "      <td>7.993204</td>\n",
       "      <td>8.430513</td>\n",
       "      <td>8.214404</td>\n",
       "      <td>8.559117</td>\n",
       "      <td>8.521084</td>\n",
       "      <td>8.460050</td>\n",
       "      <td>8.294821</td>\n",
       "      <td>8.329526</td>\n",
       "    </tr>\n",
       "    <tr>\n",
       "      <th>NM_001204371</th>\n",
       "      <td>3.892463</td>\n",
       "      <td>4.113051</td>\n",
       "      <td>4.236066</td>\n",
       "      <td>3.673601</td>\n",
       "      <td>4.171318</td>\n",
       "      <td>4.231676</td>\n",
       "      <td>3.689275</td>\n",
       "      <td>3.571904</td>\n",
       "    </tr>\n",
       "    <tr>\n",
       "      <th>NM_009826</th>\n",
       "      <td>8.329473</td>\n",
       "      <td>8.507683</td>\n",
       "      <td>8.327480</td>\n",
       "      <td>8.451816</td>\n",
       "      <td>8.301892</td>\n",
       "      <td>8.345079</td>\n",
       "      <td>8.109227</td>\n",
       "      <td>8.109115</td>\n",
       "    </tr>\n",
       "    <tr>\n",
       "      <th>NM_001195732</th>\n",
       "      <td>3.533509</td>\n",
       "      <td>3.292036</td>\n",
       "      <td>3.958079</td>\n",
       "      <td>3.566297</td>\n",
       "      <td>3.561111</td>\n",
       "      <td>3.504118</td>\n",
       "      <td>3.541423</td>\n",
       "      <td>3.492351</td>\n",
       "    </tr>\n",
       "  </tbody>\n",
       "</table>\n",
       "</div>"
      ],
      "text/plain": [
       "Hybridization Assay Name  GSM458594  GSM458595  GSM458596  GSM458597  \\\n",
       "ID                                                                     \n",
       "NM_001355712               8.942076   9.468133   9.212215   9.414233   \n",
       "NM_001310442               7.993204   8.430513   8.214404   8.559117   \n",
       "NM_001204371               3.892463   4.113051   4.236066   3.673601   \n",
       "NM_009826                  8.329473   8.507683   8.327480   8.451816   \n",
       "NM_001195732               3.533509   3.292036   3.958079   3.566297   \n",
       "\n",
       "Hybridization Assay Name  GSM458598  GSM458599  GSM458600  GSM458601  \n",
       "ID                                                                    \n",
       "NM_001355712               9.506787   9.364989   9.379174   9.451228  \n",
       "NM_001310442               8.521084   8.460050   8.294821   8.329526  \n",
       "NM_001204371               4.171318   4.231676   3.689275   3.571904  \n",
       "NM_009826                  8.301892   8.345079   8.109227   8.109115  \n",
       "NM_001195732               3.561111   3.504118   3.541423   3.492351  "
      ]
     },
     "execution_count": 12,
     "metadata": {},
     "output_type": "execute_result"
    }
   ],
   "source": [
    "glds = GLDS(\"GLDS-4\", index_by=\"hybridization assay name\")\n",
    "assay = glds.assays[0]\n",
    "assay.processed_data[:5]"
   ]
  },
  {
   "cell_type": "markdown",
   "metadata": {},
   "source": [
    "Note that \"Sample Name\" is now in available fields, while \"Hybridization Assay Name\" is not (because it isn't a metadata column anymore, it's its index):"
   ]
  },
  {
   "cell_type": "code",
   "execution_count": 13,
   "metadata": {},
   "outputs": [
    {
     "data": {
      "text/plain": [
       "index: ['GSM458594', 'GSM458595', 'GSM458596', 'GSM458597', 'GSM458598', 'GSM458599', 'GSM458600', 'GSM458601']\n",
       "fields: ['Sample Name', 'Factor Value:  Spaceflight', 'Protocol REF', 'Material Type', 'Extract Name', 'Labeled Extract Name', 'Label', 'Array Design REF', 'Array Data File', 'Normalization Name', 'Derived Array Data File', 'Comment:  GeneLab Processed Raw Data Files', 'Comment:  Raw Data Images', 'Comment:  Raw Data Plots', 'Comment:  Supplemental Materials', 'Comment:  Normalized Data Files', 'Comment:  Normalized Annotated Data Files', 'Comment:  Normalized Data Plots']\n",
       "factor values: {'Factor Value:  Spaceflight': {'Space Flight', 'Ground Control'}}"
      ]
     },
     "execution_count": 13,
     "metadata": {},
     "output_type": "execute_result"
    }
   ],
   "source": [
    "assay.metadata"
   ]
  },
  {
   "cell_type": "code",
   "execution_count": 14,
   "metadata": {},
   "outputs": [
    {
     "data": {
      "text/plain": [
       "Index(['GSM458594', 'GSM458595', 'GSM458596', 'GSM458597', 'GSM458598',\n",
       "       'GSM458599', 'GSM458600', 'GSM458601'],\n",
       "      dtype='object', name='a100015hybridizationassayname')"
      ]
     },
     "execution_count": 14,
     "metadata": {},
     "output_type": "execute_result"
    }
   ],
   "source": [
    "assay.metadata.index"
   ]
  },
  {
   "cell_type": "code",
   "execution_count": 15,
   "metadata": {},
   "outputs": [
    {
     "data": {
      "text/plain": [
       "['Sample Name',\n",
       " 'Factor Value:  Spaceflight',\n",
       " 'Protocol REF',\n",
       " 'Material Type',\n",
       " 'Extract Name',\n",
       " 'Labeled Extract Name',\n",
       " 'Label',\n",
       " 'Array Design REF',\n",
       " 'Array Data File',\n",
       " 'Normalization Name',\n",
       " 'Derived Array Data File',\n",
       " 'Comment:  GeneLab Processed Raw Data Files',\n",
       " 'Comment:  Raw Data Images',\n",
       " 'Comment:  Raw Data Plots',\n",
       " 'Comment:  Supplemental Materials',\n",
       " 'Comment:  Normalized Data Files',\n",
       " 'Comment:  Normalized Annotated Data Files',\n",
       " 'Comment:  Normalized Data Plots']"
      ]
     },
     "execution_count": 15,
     "metadata": {},
     "output_type": "execute_result"
    }
   ],
   "source": [
    "assay.metadata.columns"
   ]
  },
  {
   "cell_type": "markdown",
   "metadata": {},
   "source": [
    "Once downloaded, normalized/processed data is not redownloaded and can be accessed quickly.  \n",
    "However, if need be, it can be redownloaded by issuing:"
   ]
  },
  {
   "cell_type": "code",
   "execution_count": 16,
   "metadata": {},
   "outputs": [],
   "source": [
    "_ = assay.get_normalized_data(force_redownload=True)\n",
    "_ = assay.get_processed_data(force_redownload=True)\n",
    "# alias: assay.get_normalized_annotated_data(force_redownload=True)"
   ]
  },
  {
   "cell_type": "markdown",
   "metadata": {},
   "source": [
    "*Note that `assay.get_processed_data()` with no arguments defaults to `force_redownload=False` and is semantically equivalent to just using `assay.processed_data`, and so on.*"
   ]
  },
  {
   "cell_type": "markdown",
   "metadata": {},
   "source": [
    "Now we basically have our annotation and our data for limma etc:"
   ]
  },
  {
   "cell_type": "code",
   "execution_count": 17,
   "metadata": {},
   "outputs": [
    {
     "data": {
      "text/html": [
       "<div>\n",
       "<style scoped>\n",
       "    .dataframe tbody tr th:only-of-type {\n",
       "        vertical-align: middle;\n",
       "    }\n",
       "\n",
       "    .dataframe tbody tr th {\n",
       "        vertical-align: top;\n",
       "    }\n",
       "\n",
       "    .dataframe thead th {\n",
       "        text-align: right;\n",
       "    }\n",
       "</style>\n",
       "<table border=\"1\" class=\"dataframe\">\n",
       "  <thead>\n",
       "    <tr style=\"text-align: right;\">\n",
       "      <th>Hybridization Assay Name</th>\n",
       "      <th>GSM458594</th>\n",
       "      <th>GSM458595</th>\n",
       "      <th>GSM458596</th>\n",
       "      <th>GSM458597</th>\n",
       "      <th>GSM458598</th>\n",
       "      <th>GSM458599</th>\n",
       "      <th>GSM458600</th>\n",
       "      <th>GSM458601</th>\n",
       "    </tr>\n",
       "    <tr>\n",
       "      <th>Factor</th>\n",
       "      <th></th>\n",
       "      <th></th>\n",
       "      <th></th>\n",
       "      <th></th>\n",
       "      <th></th>\n",
       "      <th></th>\n",
       "      <th></th>\n",
       "      <th></th>\n",
       "    </tr>\n",
       "  </thead>\n",
       "  <tbody>\n",
       "    <tr>\n",
       "      <th>Factor Value:  Spaceflight</th>\n",
       "      <td>Space Flight</td>\n",
       "      <td>Space Flight</td>\n",
       "      <td>Space Flight</td>\n",
       "      <td>Space Flight</td>\n",
       "      <td>Ground Control</td>\n",
       "      <td>Ground Control</td>\n",
       "      <td>Ground Control</td>\n",
       "      <td>Ground Control</td>\n",
       "    </tr>\n",
       "  </tbody>\n",
       "</table>\n",
       "</div>"
      ],
      "text/plain": [
       "Hybridization Assay Name       GSM458594     GSM458595     GSM458596  \\\n",
       "Factor                                                                 \n",
       "Factor Value:  Spaceflight  Space Flight  Space Flight  Space Flight   \n",
       "\n",
       "Hybridization Assay Name       GSM458597       GSM458598       GSM458599  \\\n",
       "Factor                                                                     \n",
       "Factor Value:  Spaceflight  Space Flight  Ground Control  Ground Control   \n",
       "\n",
       "Hybridization Assay Name         GSM458600       GSM458601  \n",
       "Factor                                                      \n",
       "Factor Value:  Spaceflight  Ground Control  Ground Control  "
      ]
     },
     "execution_count": 17,
     "metadata": {},
     "output_type": "execute_result"
    }
   ],
   "source": [
    "assay.factors.T"
   ]
  },
  {
   "cell_type": "code",
   "execution_count": 18,
   "metadata": {},
   "outputs": [
    {
     "data": {
      "text/html": [
       "<div>\n",
       "<style scoped>\n",
       "    .dataframe tbody tr th:only-of-type {\n",
       "        vertical-align: middle;\n",
       "    }\n",
       "\n",
       "    .dataframe tbody tr th {\n",
       "        vertical-align: top;\n",
       "    }\n",
       "\n",
       "    .dataframe thead th {\n",
       "        text-align: right;\n",
       "    }\n",
       "</style>\n",
       "<table border=\"1\" class=\"dataframe\">\n",
       "  <thead>\n",
       "    <tr style=\"text-align: right;\">\n",
       "      <th>Hybridization Assay Name</th>\n",
       "      <th>GSM458594</th>\n",
       "      <th>GSM458595</th>\n",
       "      <th>GSM458596</th>\n",
       "      <th>GSM458597</th>\n",
       "      <th>GSM458598</th>\n",
       "      <th>GSM458599</th>\n",
       "      <th>GSM458600</th>\n",
       "      <th>GSM458601</th>\n",
       "    </tr>\n",
       "    <tr>\n",
       "      <th>ID</th>\n",
       "      <th></th>\n",
       "      <th></th>\n",
       "      <th></th>\n",
       "      <th></th>\n",
       "      <th></th>\n",
       "      <th></th>\n",
       "      <th></th>\n",
       "      <th></th>\n",
       "    </tr>\n",
       "  </thead>\n",
       "  <tbody>\n",
       "    <tr>\n",
       "      <th>NM_001355712</th>\n",
       "      <td>8.942076</td>\n",
       "      <td>9.468133</td>\n",
       "      <td>9.212215</td>\n",
       "      <td>9.414233</td>\n",
       "      <td>9.506787</td>\n",
       "      <td>9.364989</td>\n",
       "      <td>9.379174</td>\n",
       "      <td>9.451228</td>\n",
       "    </tr>\n",
       "    <tr>\n",
       "      <th>NM_001310442</th>\n",
       "      <td>7.993204</td>\n",
       "      <td>8.430513</td>\n",
       "      <td>8.214404</td>\n",
       "      <td>8.559117</td>\n",
       "      <td>8.521084</td>\n",
       "      <td>8.460050</td>\n",
       "      <td>8.294821</td>\n",
       "      <td>8.329526</td>\n",
       "    </tr>\n",
       "    <tr>\n",
       "      <th>NM_001204371</th>\n",
       "      <td>3.892463</td>\n",
       "      <td>4.113051</td>\n",
       "      <td>4.236066</td>\n",
       "      <td>3.673601</td>\n",
       "      <td>4.171318</td>\n",
       "      <td>4.231676</td>\n",
       "      <td>3.689275</td>\n",
       "      <td>3.571904</td>\n",
       "    </tr>\n",
       "    <tr>\n",
       "      <th>NM_009826</th>\n",
       "      <td>8.329473</td>\n",
       "      <td>8.507683</td>\n",
       "      <td>8.327480</td>\n",
       "      <td>8.451816</td>\n",
       "      <td>8.301892</td>\n",
       "      <td>8.345079</td>\n",
       "      <td>8.109227</td>\n",
       "      <td>8.109115</td>\n",
       "    </tr>\n",
       "    <tr>\n",
       "      <th>NM_001195732</th>\n",
       "      <td>3.533509</td>\n",
       "      <td>3.292036</td>\n",
       "      <td>3.958079</td>\n",
       "      <td>3.566297</td>\n",
       "      <td>3.561111</td>\n",
       "      <td>3.504118</td>\n",
       "      <td>3.541423</td>\n",
       "      <td>3.492351</td>\n",
       "    </tr>\n",
       "  </tbody>\n",
       "</table>\n",
       "</div>"
      ],
      "text/plain": [
       "Hybridization Assay Name  GSM458594  GSM458595  GSM458596  GSM458597  \\\n",
       "ID                                                                     \n",
       "NM_001355712               8.942076   9.468133   9.212215   9.414233   \n",
       "NM_001310442               7.993204   8.430513   8.214404   8.559117   \n",
       "NM_001204371               3.892463   4.113051   4.236066   3.673601   \n",
       "NM_009826                  8.329473   8.507683   8.327480   8.451816   \n",
       "NM_001195732               3.533509   3.292036   3.958079   3.566297   \n",
       "\n",
       "Hybridization Assay Name  GSM458598  GSM458599  GSM458600  GSM458601  \n",
       "ID                                                                    \n",
       "NM_001355712               9.506787   9.364989   9.379174   9.451228  \n",
       "NM_001310442               8.521084   8.460050   8.294821   8.329526  \n",
       "NM_001204371               4.171318   4.231676   3.689275   3.571904  \n",
       "NM_009826                  8.301892   8.345079   8.109227   8.109115  \n",
       "NM_001195732               3.561111   3.504118   3.541423   3.492351  "
      ]
     },
     "execution_count": 18,
     "metadata": {},
     "output_type": "execute_result"
    }
   ],
   "source": [
    "assay.processed_data[:5]"
   ]
  },
  {
   "cell_type": "markdown",
   "metadata": {},
   "source": [
    "----\n",
    "Some indexing shenanigans (some of it could be useful, some of it I can axe if we'll never need it)"
   ]
  },
  {
   "cell_type": "markdown",
   "metadata": {},
   "source": [
    "We can even do Pandas-like indexing:"
   ]
  },
  {
   "cell_type": "code",
   "execution_count": 19,
   "metadata": {},
   "outputs": [
    {
     "data": {
      "text/html": [
       "<div>\n",
       "<style scoped>\n",
       "    .dataframe tbody tr th:only-of-type {\n",
       "        vertical-align: middle;\n",
       "    }\n",
       "\n",
       "    .dataframe tbody tr th {\n",
       "        vertical-align: top;\n",
       "    }\n",
       "\n",
       "    .dataframe thead th {\n",
       "        text-align: right;\n",
       "    }\n",
       "</style>\n",
       "<table border=\"1\" class=\"dataframe\">\n",
       "  <thead>\n",
       "    <tr style=\"text-align: right;\">\n",
       "      <th>Hybridization Assay Name</th>\n",
       "      <th>GSM458594</th>\n",
       "      <th>GSM458595</th>\n",
       "      <th>GSM458596</th>\n",
       "      <th>GSM458597</th>\n",
       "    </tr>\n",
       "    <tr>\n",
       "      <th>ID</th>\n",
       "      <th></th>\n",
       "      <th></th>\n",
       "      <th></th>\n",
       "      <th></th>\n",
       "    </tr>\n",
       "  </thead>\n",
       "  <tbody>\n",
       "    <tr>\n",
       "      <th>NM_001355712</th>\n",
       "      <td>8.942076</td>\n",
       "      <td>9.468133</td>\n",
       "      <td>9.212215</td>\n",
       "      <td>9.414233</td>\n",
       "    </tr>\n",
       "    <tr>\n",
       "      <th>NM_001310442</th>\n",
       "      <td>7.993204</td>\n",
       "      <td>8.430513</td>\n",
       "      <td>8.214404</td>\n",
       "      <td>8.559117</td>\n",
       "    </tr>\n",
       "    <tr>\n",
       "      <th>NM_001204371</th>\n",
       "      <td>3.892463</td>\n",
       "      <td>4.113051</td>\n",
       "      <td>4.236066</td>\n",
       "      <td>3.673601</td>\n",
       "    </tr>\n",
       "    <tr>\n",
       "      <th>NM_009826</th>\n",
       "      <td>8.329473</td>\n",
       "      <td>8.507683</td>\n",
       "      <td>8.327480</td>\n",
       "      <td>8.451816</td>\n",
       "    </tr>\n",
       "    <tr>\n",
       "      <th>NM_001195732</th>\n",
       "      <td>3.533509</td>\n",
       "      <td>3.292036</td>\n",
       "      <td>3.958079</td>\n",
       "      <td>3.566297</td>\n",
       "    </tr>\n",
       "  </tbody>\n",
       "</table>\n",
       "</div>"
      ],
      "text/plain": [
       "Hybridization Assay Name  GSM458594  GSM458595  GSM458596  GSM458597\n",
       "ID                                                                  \n",
       "NM_001355712               8.942076   9.468133   9.212215   9.414233\n",
       "NM_001310442               7.993204   8.430513   8.214404   8.559117\n",
       "NM_001204371               3.892463   4.113051   4.236066   3.673601\n",
       "NM_009826                  8.329473   8.507683   8.327480   8.451816\n",
       "NM_001195732               3.533509   3.292036   3.958079   3.566297"
      ]
     },
     "execution_count": 19,
     "metadata": {},
     "output_type": "execute_result"
    }
   ],
   "source": [
    "space_samples = assay.metadata[assay.factors==\"Space Flight\"].index\n",
    "assay.processed_data[space_samples][:5]"
   ]
  },
  {
   "cell_type": "markdown",
   "metadata": {},
   "source": [
    "And more complex indexing, with `.loc`:  \n",
    "*(although the order of columns is unpredictable so far, but then again, because some human-readable field names map to multiple metadata columns, it's quite hard to do this in a predictable way)*"
   ]
  },
  {
   "cell_type": "code",
   "execution_count": 20,
   "metadata": {},
   "outputs": [
    {
     "data": {
      "text/html": [
       "<div>\n",
       "<style scoped>\n",
       "    .dataframe tbody tr th:only-of-type {\n",
       "        vertical-align: middle;\n",
       "    }\n",
       "\n",
       "    .dataframe tbody tr th {\n",
       "        vertical-align: top;\n",
       "    }\n",
       "\n",
       "    .dataframe thead th {\n",
       "        text-align: right;\n",
       "    }\n",
       "</style>\n",
       "<table border=\"1\" class=\"dataframe\">\n",
       "  <thead>\n",
       "    <tr style=\"text-align: right;\">\n",
       "      <th></th>\n",
       "      <th>a100011label</th>\n",
       "      <th>a100010labeledextractname</th>\n",
       "      <th>a100000samplename</th>\n",
       "    </tr>\n",
       "    <tr>\n",
       "      <th>a100015hybridizationassayname</th>\n",
       "      <th></th>\n",
       "      <th></th>\n",
       "      <th></th>\n",
       "    </tr>\n",
       "  </thead>\n",
       "  <tbody>\n",
       "    <tr>\n",
       "      <th>GSM458594</th>\n",
       "      <td>biotin</td>\n",
       "      <td>GSM458594</td>\n",
       "      <td>Mmus_C57-6T_TMS_FLT_Rep1</td>\n",
       "    </tr>\n",
       "    <tr>\n",
       "      <th>GSM458595</th>\n",
       "      <td>biotin</td>\n",
       "      <td>GSM458595</td>\n",
       "      <td>Mmus_C57-6T_TMS_FLT_Rep2</td>\n",
       "    </tr>\n",
       "    <tr>\n",
       "      <th>GSM458596</th>\n",
       "      <td>biotin</td>\n",
       "      <td>GSM458596</td>\n",
       "      <td>Mmus_C57-6T_TMS_FLT_Rep3</td>\n",
       "    </tr>\n",
       "    <tr>\n",
       "      <th>GSM458597</th>\n",
       "      <td>biotin</td>\n",
       "      <td>GSM458597</td>\n",
       "      <td>Mmus_C57-6T_TMS_FLT_Rep4</td>\n",
       "    </tr>\n",
       "  </tbody>\n",
       "</table>\n",
       "</div>"
      ],
      "text/plain": [
       "                              a100011label a100010labeledextractname  \\\n",
       "a100015hybridizationassayname                                          \n",
       "GSM458594                           biotin                 GSM458594   \n",
       "GSM458595                           biotin                 GSM458595   \n",
       "GSM458596                           biotin                 GSM458596   \n",
       "GSM458597                           biotin                 GSM458597   \n",
       "\n",
       "                                      a100000samplename  \n",
       "a100015hybridizationassayname                            \n",
       "GSM458594                      Mmus_C57-6T_TMS_FLT_Rep1  \n",
       "GSM458595                      Mmus_C57-6T_TMS_FLT_Rep2  \n",
       "GSM458596                      Mmus_C57-6T_TMS_FLT_Rep3  \n",
       "GSM458597                      Mmus_C57-6T_TMS_FLT_Rep4  "
      ]
     },
     "execution_count": 20,
     "metadata": {},
     "output_type": "execute_result"
    }
   ],
   "source": [
    "assay.metadata.loc[\n",
    "    assay.factors==\"Space Flight\",\n",
    "    [\"Sample Name\", \"Label\", \"Labeled Extract Name\"]\n",
    "]"
   ]
  },
  {
   "cell_type": "markdown",
   "metadata": {},
   "source": [
    "Of course, we can use iterrows on whatever subset we get, because it's a dataframe:"
   ]
  },
  {
   "cell_type": "code",
   "execution_count": 21,
   "metadata": {},
   "outputs": [
    {
     "name": "stdout",
     "output_type": "stream",
     "text": [
      "GSM458594: Mmus_C57-6T_TMS_FLT_Rep1\n",
      "GSM458595: Mmus_C57-6T_TMS_FLT_Rep2\n",
      "GSM458596: Mmus_C57-6T_TMS_FLT_Rep3\n",
      "GSM458597: Mmus_C57-6T_TMS_FLT_Rep4\n"
     ]
    }
   ],
   "source": [
    "raw_plots = assay.metadata.loc[\n",
    "    assay.factors==\"Space Flight\",\n",
    "    [\"Sample Name\"]\n",
    "]\n",
    "\n",
    "for name, row in raw_plots.iterrows():\n",
    "    print(name, row.iloc[0], sep=\": \")"
   ]
  },
  {
   "cell_type": "markdown",
   "metadata": {},
   "source": [
    "The above is not very useful, because indexing like this **has** to produce a DataFrame with columns as internal values, but what if I told you we could also iterate over the rows of the entire metadata:"
   ]
  },
  {
   "cell_type": "code",
   "execution_count": 22,
   "metadata": {},
   "outputs": [
    {
     "name": "stdout",
     "output_type": "stream",
     "text": [
      "GSM458594: Mmus_C57-6T_TMS_FLT_Rep1\n",
      "GSM458595: Mmus_C57-6T_TMS_FLT_Rep2\n",
      "GSM458596: Mmus_C57-6T_TMS_FLT_Rep3\n",
      "GSM458597: Mmus_C57-6T_TMS_FLT_Rep4\n",
      "GSM458598: Mmus_C57-6T_TMS_GC_Rep1\n",
      "GSM458599: Mmus_C57-6T_TMS_GC_Rep2\n",
      "GSM458600: Mmus_C57-6T_TMS_GC_Rep3\n",
      "GSM458601: Mmus_C57-6T_TMS_GC_Rep4\n"
     ]
    }
   ],
   "source": [
    "for name, row in assay.metadata.iterrows():\n",
    "    print(name, row[\"Sample Name\"], sep=\": \")"
   ]
  },
  {
   "cell_type": "markdown",
   "metadata": {},
   "source": [
    "In the future, I may reimplement indexing by a boolean condition (such as `assay.metadata[assay.factors==\"Ground Control\"]`) so that it produces a metadata-like object, and not just a DataFrame, so it can also be iterrow-ed gracefully... Assuming this is something we might need."
   ]
  }
 ],
 "metadata": {
  "kernelspec": {
   "display_name": "Python 3",
   "language": "python",
   "name": "python3"
  },
  "language_info": {
   "codemirror_mode": {
    "name": "ipython",
    "version": 3
   },
   "file_extension": ".py",
   "mimetype": "text/x-python",
   "name": "python",
   "nbconvert_exporter": "python",
   "pygments_lexer": "ipython3",
   "version": "3.7.1"
  }
 },
 "nbformat": 4,
 "nbformat_minor": 2
}
