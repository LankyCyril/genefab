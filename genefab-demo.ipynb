{
 "cells": [
  {
   "cell_type": "code",
   "execution_count": 1,
   "metadata": {},
   "outputs": [],
   "source": [
    "from genefab import GLDSCollection, MicroarrayExperiment"
   ]
  },
  {
   "cell_type": "markdown",
   "metadata": {},
   "source": [
    "**GLDSCollection()** searches and stores up to **maxcount** GLDS datasets based on regular expressions passed to the arguments **ptype**, **organism**, **factor**, and **assay**.  \n",
    "The default value of **maxcount** is 25.  \n",
    "If either of the arguments is not passed, it is assumed to be a wildcard."
   ]
  },
  {
   "cell_type": "code",
   "execution_count": 2,
   "metadata": {},
   "outputs": [
    {
     "name": "stderr",
     "output_type": "stream",
     "text": [
      "looking up ptype(s): \"Spaceflight Study\", \"Spaceflight Project\", \"Spaceflight\", \"Flight Study\", \"Flight\",\n",
      "looking up organism(s): \"Mus musculus\",\n",
      "looking up factor(s): \"Absorbed Radiation Dose\", \"Ionizing Radiation\", \"Ionzing Radiation\", \"Irradiation\", \"post radiation timepoint\", \"Radiation\", \"Radiation Distance\", \"Radiation dosage\", \"radiation dose\", \"radiation type\", \"Radiation, Ionzing\",\n",
      "looking up assay(s): \"transcription profiling\",\n",
      "Parsing url:  https://genelab-data.ndc.nasa.gov/genelab/data/search/?term=GLDS&type=cgene&size=10&ffield=Project+Type&fvalue=Spaceflight+Study&ffield=Project+Type&fvalue=Spaceflight+Project&ffield=Project+Type&fvalue=Spaceflight&ffield=Project+Type&fvalue=Flight+Study&ffield=Project+Type&fvalue=Flight&ffield=organism&fvalue=Mus+musculus&ffield=Study+Factor+Name&fvalue=Absorbed+Radiation+Dose&ffield=Study+Factor+Name&fvalue=Ionizing+Radiation&ffield=Study+Factor+Name&fvalue=Ionzing+Radiation&ffield=Study+Factor+Name&fvalue=Irradiation&ffield=Study+Factor+Name&fvalue=post+radiation+timepoint&ffield=Study+Factor+Name&fvalue=Radiation&ffield=Study+Factor+Name&fvalue=Radiation+Distance&ffield=Study+Factor+Name&fvalue=Radiation+dosage&ffield=Study+Factor+Name&fvalue=radiation+dose&ffield=Study+Factor+Name&fvalue=radiation+type&ffield=Study+Factor+Name&fvalue=Radiation%2C+Ionzing&ffield=Study+Assay+Measurement+Type&fvalue=transcription+profiling\n"
     ]
    },
    {
     "name": "stdout",
     "output_type": "stream",
     "text": [
      "9\n"
     ]
    }
   ],
   "source": [
    "collection = GLDSCollection(ptype=\"flight\", organism=\"mus\", factor=\"radiation\", assay=\"transcript\", maxcount=10)\n",
    "print(len(collection))"
   ]
  },
  {
   "cell_type": "markdown",
   "metadata": {},
   "source": [
    "**GLDS** objects have multiple attributes. Here is an example of finding the datasets that contain raw array files (CELs)"
   ]
  },
  {
   "cell_type": "code",
   "execution_count": 3,
   "metadata": {},
   "outputs": [
    {
     "name": "stderr",
     "output_type": "stream",
     "text": [
      "Parsing url:  https://genelab-data.ndc.nasa.gov/genelab/data/study/data/GLDS-173/\n",
      "Parsing url:  https://genelab-data.ndc.nasa.gov/genelab/data/study/data/GLDS-87/\n",
      "Parsing url:  https://genelab-data.ndc.nasa.gov/genelab/data/study/data/GLDS-25/\n",
      "Parsing url:  https://genelab-data.ndc.nasa.gov/genelab/data/study/data/GLDS-21/\n",
      "Parsing url:  https://genelab-data.ndc.nasa.gov/genelab/data/study/data/GLDS-50/\n",
      "Parsing url:  https://genelab-data.ndc.nasa.gov/genelab/data/study/data/GLDS-135/\n",
      "Parsing url:  https://genelab-data.ndc.nasa.gov/genelab/data/study/data/GLDS-116/\n",
      "Parsing url:  https://genelab-data.ndc.nasa.gov/genelab/data/study/data/GLDS-4/\n",
      "Parsing url:  https://genelab-data.ndc.nasa.gov/genelab/data/study/data/GLDS-111/\n"
     ]
    },
    {
     "name": "stdout",
     "output_type": "stream",
     "text": [
      "8\n"
     ]
    }
   ],
   "source": [
    "array_datasets = [\n",
    "    glds for glds in collection\n",
    "    if glds.has_raw_arrays\n",
    "]\n",
    "print(len(array_datasets))"
   ]
  },
  {
   "cell_type": "code",
   "execution_count": 4,
   "metadata": {},
   "outputs": [
    {
     "name": "stdout",
     "output_type": "stream",
     "text": [
      "GLDS-87\n"
     ]
    }
   ],
   "source": [
    "glds = array_datasets[0]\n",
    "print(glds.accession)"
   ]
  },
  {
   "cell_type": "markdown",
   "metadata": {},
   "source": [
    "Here we build a **MicroarrayExperiment** object from an existing **GLDS** object.  \n",
    "This triggers listing of archived files in the **GLDS** objects, and if they have not been downloaded before, they are fetched from the server. The next time this **GLDS** object is initialized, it will reuse the existing local files.  \n",
    "Similarly, as the unarchived versions of the data files are needed for further analyses, the unpacking is triggered. If the files have been unpacked before, this action will be skipped and existing files will be reused."
   ]
  },
  {
   "cell_type": "code",
   "execution_count": 5,
   "metadata": {},
   "outputs": [
    {
     "name": "stderr",
     "output_type": "stream",
     "text": [
      "Parsing url:  https://genelab-data.ndc.nasa.gov/genelab/data/study/filelistings/59c440a440eb233adce5aa5f\n",
      "Downloading GLDS-87_metadata_Zanello_STS135-ISA.zip: 100%|██████████| 5/5 [00:00<?, ?KB/s]\n",
      "Downloading GLDS-87_microarray_14R_(Mouse430_2).CEL.gz: 100%|██████████| 6226/6226 [00:54<00:00, 114.21KB/s]\n",
      "Downloading GLDS-87_microarray_16R_(Mouse430_2).CEL.gz: 100%|██████████| 6128/6128 [00:57<00:00, 105.83KB/s]\n",
      "Downloading GLDS-87_microarray_20R_(Mouse430_2).CEL.gz: 100%|██████████| 6235/6235 [00:21<00:00, 286.75KB/s] \n",
      "Downloading GLDS-87_microarray_52R_(Mouse430_2).CEL.gz: 100%|██████████| 6150/6150 [00:28<00:00, 219.35KB/s] \n",
      "Downloading GLDS-87_microarray_54R_(Mouse430_2).CEL.gz: 100%|██████████| 5877/5877 [00:35<00:00, 167.02KB/s]\n",
      "Downloading GLDS-87_microarray_58R_(Mouse430_2).CEL.gz: 100%|██████████| 6182/6182 [00:45<00:00, 136.63KB/s]\n",
      "Unpacking top-level files: 100%|██████████| 7/7 [00:02<00:00,  2.55file/s]\n",
      "Unpacking second-level files: 100%|██████████| 6/6 [00:00<00:00, 6001.87file/s]\n"
     ]
    },
    {
     "data": {
      "text/html": [
       "<div>\n",
       "<style scoped>\n",
       "    .dataframe tbody tr th:only-of-type {\n",
       "        vertical-align: middle;\n",
       "    }\n",
       "\n",
       "    .dataframe tbody tr th {\n",
       "        vertical-align: top;\n",
       "    }\n",
       "\n",
       "    .dataframe thead th {\n",
       "        text-align: right;\n",
       "    }\n",
       "</style>\n",
       "<table border=\"1\" class=\"dataframe\">\n",
       "  <thead>\n",
       "    <tr style=\"text-align: right;\">\n",
       "      <th></th>\n",
       "      <th>Spaceflight</th>\n",
       "      <th>filename</th>\n",
       "    </tr>\n",
       "    <tr>\n",
       "      <th>Sample Name</th>\n",
       "      <th></th>\n",
       "      <th></th>\n",
       "    </tr>\n",
       "  </thead>\n",
       "  <tbody>\n",
       "    <tr>\n",
       "      <th>16R</th>\n",
       "      <td>Ground</td>\n",
       "      <td>.genefab\\MicroarrayExperiment_source\\GLDS-87\\G...</td>\n",
       "    </tr>\n",
       "    <tr>\n",
       "      <th>18R</th>\n",
       "      <td>Ground</td>\n",
       "      <td>.genefab\\MicroarrayExperiment_source\\GLDS-87\\G...</td>\n",
       "    </tr>\n",
       "    <tr>\n",
       "      <th>20R</th>\n",
       "      <td>Ground</td>\n",
       "      <td>.genefab\\MicroarrayExperiment_source\\GLDS-87\\G...</td>\n",
       "    </tr>\n",
       "    <tr>\n",
       "      <th>52R</th>\n",
       "      <td>Flight</td>\n",
       "      <td>.genefab\\MicroarrayExperiment_source\\GLDS-87\\G...</td>\n",
       "    </tr>\n",
       "    <tr>\n",
       "      <th>54R</th>\n",
       "      <td>Flight</td>\n",
       "      <td>.genefab\\MicroarrayExperiment_source\\GLDS-87\\G...</td>\n",
       "    </tr>\n",
       "    <tr>\n",
       "      <th>58R</th>\n",
       "      <td>Flight</td>\n",
       "      <td>.genefab\\MicroarrayExperiment_source\\GLDS-87\\G...</td>\n",
       "    </tr>\n",
       "  </tbody>\n",
       "</table>\n",
       "</div>"
      ],
      "text/plain": [
       "            Spaceflight                                           filename\n",
       "Sample Name                                                               \n",
       "16R              Ground  .genefab\\MicroarrayExperiment_source\\GLDS-87\\G...\n",
       "18R              Ground  .genefab\\MicroarrayExperiment_source\\GLDS-87\\G...\n",
       "20R              Ground  .genefab\\MicroarrayExperiment_source\\GLDS-87\\G...\n",
       "52R              Flight  .genefab\\MicroarrayExperiment_source\\GLDS-87\\G...\n",
       "54R              Flight  .genefab\\MicroarrayExperiment_source\\GLDS-87\\G...\n",
       "58R              Flight  .genefab\\MicroarrayExperiment_source\\GLDS-87\\G..."
      ]
     },
     "execution_count": 5,
     "metadata": {},
     "output_type": "execute_result"
    }
   ],
   "source": [
    "experiment = MicroarrayExperiment(glds)\n",
    "experiment.annotation"
   ]
  },
  {
   "cell_type": "code",
   "execution_count": 10,
   "metadata": {},
   "outputs": [
    {
     "data": {
      "text/plain": [
       "{'Spaceflight': {'Flight', 'Ground'}}"
      ]
     },
     "execution_count": 10,
     "metadata": {},
     "output_type": "execute_result"
    }
   ],
   "source": [
    "experiment.factors"
   ]
  },
  {
   "cell_type": "markdown",
   "metadata": {},
   "source": [
    "Finally, we run limma. It picks up information from the annotation dataframe and builds the design matrix and the affymetrix dataset from it.  \n",
    "This part of the code is only a proof of concept, and a proper universal protocol needs to be decided upon and implemented. As you can see, the adjusted p-values that we get from running this proof-of-concept method are laughable."
   ]
  },
  {
   "cell_type": "code",
   "execution_count": 9,
   "metadata": {},
   "outputs": [
    {
     "name": "stderr",
     "output_type": "stream",
     "text": [
      "Running Rscript 'C:\\Users\\Kirill\\AppData\\Local\\Temp\\tmpdnai0p2f' and storing to 'C:\\Users\\Kirill\\AppData\\Local\\Temp\\tmpez42k2kh'\n"
     ]
    },
    {
     "data": {
      "text/html": [
       "<div>\n",
       "<style scoped>\n",
       "    .dataframe tbody tr th:only-of-type {\n",
       "        vertical-align: middle;\n",
       "    }\n",
       "\n",
       "    .dataframe tbody tr th {\n",
       "        vertical-align: top;\n",
       "    }\n",
       "\n",
       "    .dataframe thead th {\n",
       "        text-align: right;\n",
       "    }\n",
       "</style>\n",
       "<table border=\"1\" class=\"dataframe\">\n",
       "  <thead>\n",
       "    <tr style=\"text-align: right;\">\n",
       "      <th></th>\n",
       "      <th>logFC</th>\n",
       "      <th>AveExpr</th>\n",
       "      <th>t</th>\n",
       "      <th>P.Value</th>\n",
       "      <th>adj.P.Val</th>\n",
       "      <th>B</th>\n",
       "    </tr>\n",
       "  </thead>\n",
       "  <tbody>\n",
       "    <tr>\n",
       "      <th>1430295_at</th>\n",
       "      <td>-0.916608</td>\n",
       "      <td>7.031751</td>\n",
       "      <td>-7.792632</td>\n",
       "      <td>0.000142</td>\n",
       "      <td>0.999328</td>\n",
       "      <td>-3.201115</td>\n",
       "    </tr>\n",
       "    <tr>\n",
       "      <th>1447746_at</th>\n",
       "      <td>0.036988</td>\n",
       "      <td>3.854953</td>\n",
       "      <td>0.434572</td>\n",
       "      <td>0.677654</td>\n",
       "      <td>0.999328</td>\n",
       "      <td>-4.798819</td>\n",
       "    </tr>\n",
       "    <tr>\n",
       "      <th>1417661_at</th>\n",
       "      <td>-0.041838</td>\n",
       "      <td>8.467491</td>\n",
       "      <td>-0.434558</td>\n",
       "      <td>0.677663</td>\n",
       "      <td>0.999328</td>\n",
       "      <td>-4.798822</td>\n",
       "    </tr>\n",
       "    <tr>\n",
       "      <th>1423652_at</th>\n",
       "      <td>-0.075915</td>\n",
       "      <td>7.292880</td>\n",
       "      <td>-0.434553</td>\n",
       "      <td>0.677666</td>\n",
       "      <td>0.999328</td>\n",
       "      <td>-4.798823</td>\n",
       "    </tr>\n",
       "    <tr>\n",
       "      <th>1425908_at</th>\n",
       "      <td>-0.052614</td>\n",
       "      <td>4.314412</td>\n",
       "      <td>-0.434495</td>\n",
       "      <td>0.677707</td>\n",
       "      <td>0.999328</td>\n",
       "      <td>-4.798834</td>\n",
       "    </tr>\n",
       "    <tr>\n",
       "      <th>1448905_at</th>\n",
       "      <td>0.072962</td>\n",
       "      <td>8.035464</td>\n",
       "      <td>0.434464</td>\n",
       "      <td>0.677728</td>\n",
       "      <td>0.999328</td>\n",
       "      <td>-4.798839</td>\n",
       "    </tr>\n",
       "    <tr>\n",
       "      <th>1427325_s_at</th>\n",
       "      <td>-0.087824</td>\n",
       "      <td>6.045436</td>\n",
       "      <td>-0.434455</td>\n",
       "      <td>0.677734</td>\n",
       "      <td>0.999328</td>\n",
       "      <td>-4.798841</td>\n",
       "    </tr>\n",
       "    <tr>\n",
       "      <th>1433639_at</th>\n",
       "      <td>0.062613</td>\n",
       "      <td>8.400961</td>\n",
       "      <td>0.434443</td>\n",
       "      <td>0.677743</td>\n",
       "      <td>0.999328</td>\n",
       "      <td>-4.798843</td>\n",
       "    </tr>\n",
       "    <tr>\n",
       "      <th>1447102_at</th>\n",
       "      <td>-0.048139</td>\n",
       "      <td>5.325603</td>\n",
       "      <td>-0.434420</td>\n",
       "      <td>0.677758</td>\n",
       "      <td>0.999328</td>\n",
       "      <td>-4.798847</td>\n",
       "    </tr>\n",
       "    <tr>\n",
       "      <th>1428635_at</th>\n",
       "      <td>-0.087399</td>\n",
       "      <td>7.126671</td>\n",
       "      <td>-0.434360</td>\n",
       "      <td>0.677800</td>\n",
       "      <td>0.999328</td>\n",
       "      <td>-4.798859</td>\n",
       "    </tr>\n",
       "  </tbody>\n",
       "</table>\n",
       "</div>"
      ],
      "text/plain": [
       "                 logFC   AveExpr         t   P.Value  adj.P.Val         B\n",
       "1430295_at   -0.916608  7.031751 -7.792632  0.000142   0.999328 -3.201115\n",
       "1447746_at    0.036988  3.854953  0.434572  0.677654   0.999328 -4.798819\n",
       "1417661_at   -0.041838  8.467491 -0.434558  0.677663   0.999328 -4.798822\n",
       "1423652_at   -0.075915  7.292880 -0.434553  0.677666   0.999328 -4.798823\n",
       "1425908_at   -0.052614  4.314412 -0.434495  0.677707   0.999328 -4.798834\n",
       "1448905_at    0.072962  8.035464  0.434464  0.677728   0.999328 -4.798839\n",
       "1427325_s_at -0.087824  6.045436 -0.434455  0.677734   0.999328 -4.798841\n",
       "1433639_at    0.062613  8.400961  0.434443  0.677743   0.999328 -4.798843\n",
       "1447102_at   -0.048139  5.325603 -0.434420  0.677758   0.999328 -4.798847\n",
       "1428635_at   -0.087399  7.126671 -0.434360  0.677800   0.999328 -4.798859"
      ]
     },
     "execution_count": 9,
     "metadata": {},
     "output_type": "execute_result"
    }
   ],
   "source": [
    "deg = experiment.limma(factor_name=\"Spaceflight\")\n",
    "deg.sort_values(by=\"adj.P.Val\")[:10]"
   ]
  }
 ],
 "metadata": {
  "kernelspec": {
   "display_name": "Python 3",
   "language": "python",
   "name": "python3"
  },
  "language_info": {
   "codemirror_mode": {
    "name": "ipython",
    "version": 3
   },
   "file_extension": ".py",
   "mimetype": "text/x-python",
   "name": "python",
   "nbconvert_exporter": "python",
   "pygments_lexer": "ipython3",
   "version": "3.6.4"
  }
 },
 "nbformat": 4,
 "nbformat_minor": 2
}
