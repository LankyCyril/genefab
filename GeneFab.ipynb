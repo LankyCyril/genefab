{
 "cells": [
  {
   "cell_type": "code",
   "execution_count": 1,
   "metadata": {},
   "outputs": [],
   "source": [
    "from genefab import GeneLabDataSet, GeneLabDataSetCollection"
   ]
  },
  {
   "cell_type": "code",
   "execution_count": 3,
   "metadata": {},
   "outputs": [
    {
     "name": "stderr",
     "output_type": "stream",
     "text": [
      "looking up ptype(s): \"ground\", \b\n",
      "looking up factor(s): \"Absorbed Radiation Dose\", \"Ionizing Radiation\", \"Ionzing Radiation\", \"Irradiation\", \"post radiation timepoint\", \"Radiation\", \"Radiation Distance\", \"Radiation dosage\", \"radiation dose\", \"radiation type\", \"Radiation, Ionzing\", \b\n",
      "looking up organism(s): \"Mus musculus\", \b\n",
      "looking up assay(s): \"transcription profiling\", \b\n"
     ]
    }
   ],
   "source": [
    "collection = GeneLabDataSetCollection(ptype=\"ground\", factor=\"radiation\", organism=\"mus\", assay=\"transcript\")"
   ]
  },
  {
   "cell_type": "code",
   "execution_count": 5,
   "metadata": {},
   "outputs": [
    {
     "data": {
      "text/plain": [
       "['GLDS-158',\n",
       " 'GLDS-93',\n",
       " 'GLDS-159',\n",
       " 'GLDS-80',\n",
       " 'GLDS-131',\n",
       " 'GLDS-160',\n",
       " 'GLDS-89',\n",
       " 'GLDS-156',\n",
       " 'GLDS-88',\n",
       " 'GLDS-109',\n",
       " 'GLDS-117']"
      ]
     },
     "execution_count": 5,
     "metadata": {},
     "output_type": "execute_result"
    }
   ],
   "source": [
    "collection.keys()"
   ]
  },
  {
   "cell_type": "code",
   "execution_count": 6,
   "metadata": {},
   "outputs": [
    {
     "data": {
      "text/plain": [
       "<genefab._dataset.GeneLabDataSet at 0x674dd0ad68>"
      ]
     },
     "execution_count": 6,
     "metadata": {},
     "output_type": "execute_result"
    }
   ],
   "source": [
    "collection[\"GLDS-93\"]"
   ]
  }
 ],
 "metadata": {
  "kernelspec": {
   "display_name": "Python 3",
   "language": "python",
   "name": "python3"
  },
  "language_info": {
   "codemirror_mode": {
    "name": "ipython",
    "version": 3
   },
   "file_extension": ".py",
   "mimetype": "text/x-python",
   "name": "python",
   "nbconvert_exporter": "python",
   "pygments_lexer": "ipython3",
   "version": "3.6.4"
  }
 },
 "nbformat": 4,
 "nbformat_minor": 2
}
